{
 "cells": [
  {
   "cell_type": "code",
   "execution_count": 2,
   "source": [
    "import sys\n",
    "!{sys.executable} -m pip install pandas\n",
    "!{sys.executable} -m pip install sklearn\n",
    "!{sys.executable} -m pip install matplotlib\n",
    "!{sys.executable} -m pip install tensorflow\n",
    "!{sys.executable} -m pip install tqdm\n",
    "!{sys.executable} -m pip install seaborn"
   ],
   "outputs": [
    {
     "output_type": "stream",
     "name": "stdout",
     "text": [
      "Requirement already satisfied: pandas in /data/Projects/MachineLearnECT/env/lib/python3.8/site-packages (1.3.0)\n",
      "Requirement already satisfied: pytz>=2017.3 in /data/Projects/MachineLearnECT/env/lib/python3.8/site-packages (from pandas) (2021.1)\n",
      "Requirement already satisfied: numpy>=1.17.3 in /data/Projects/MachineLearnECT/env/lib/python3.8/site-packages (from pandas) (1.19.5)\n",
      "Requirement already satisfied: python-dateutil>=2.7.3 in /data/Projects/MachineLearnECT/env/lib/python3.8/site-packages (from pandas) (2.8.2)\n",
      "Requirement already satisfied: six>=1.5 in /data/Projects/MachineLearnECT/env/lib/python3.8/site-packages (from python-dateutil>=2.7.3->pandas) (1.15.0)\n",
      "Requirement already satisfied: sklearn in /data/Projects/MachineLearnECT/env/lib/python3.8/site-packages (0.0)\n",
      "Requirement already satisfied: scikit-learn in /data/Projects/MachineLearnECT/env/lib/python3.8/site-packages (from sklearn) (0.24.2)\n",
      "Requirement already satisfied: joblib>=0.11 in /data/Projects/MachineLearnECT/env/lib/python3.8/site-packages (from scikit-learn->sklearn) (1.0.1)\n",
      "Requirement already satisfied: threadpoolctl>=2.0.0 in /data/Projects/MachineLearnECT/env/lib/python3.8/site-packages (from scikit-learn->sklearn) (2.2.0)\n",
      "Requirement already satisfied: numpy>=1.13.3 in /data/Projects/MachineLearnECT/env/lib/python3.8/site-packages (from scikit-learn->sklearn) (1.19.5)\n",
      "Requirement already satisfied: scipy>=0.19.1 in /data/Projects/MachineLearnECT/env/lib/python3.8/site-packages (from scikit-learn->sklearn) (1.7.0)\n",
      "Requirement already satisfied: matplotlib in /data/Projects/MachineLearnECT/env/lib/python3.8/site-packages (3.4.2)\n",
      "Requirement already satisfied: kiwisolver>=1.0.1 in /data/Projects/MachineLearnECT/env/lib/python3.8/site-packages (from matplotlib) (1.3.1)\n",
      "Requirement already satisfied: numpy>=1.16 in /data/Projects/MachineLearnECT/env/lib/python3.8/site-packages (from matplotlib) (1.19.5)\n",
      "Requirement already satisfied: python-dateutil>=2.7 in /data/Projects/MachineLearnECT/env/lib/python3.8/site-packages (from matplotlib) (2.8.2)\n",
      "Requirement already satisfied: pyparsing>=2.2.1 in /data/Projects/MachineLearnECT/env/lib/python3.8/site-packages (from matplotlib) (2.4.7)\n",
      "Requirement already satisfied: pillow>=6.2.0 in /data/Projects/MachineLearnECT/env/lib/python3.8/site-packages (from matplotlib) (8.3.1)\n",
      "Requirement already satisfied: cycler>=0.10 in /data/Projects/MachineLearnECT/env/lib/python3.8/site-packages (from matplotlib) (0.10.0)\n",
      "Requirement already satisfied: six>=1.5 in /data/Projects/MachineLearnECT/env/lib/python3.8/site-packages (from python-dateutil>=2.7->matplotlib) (1.15.0)\n",
      "Requirement already satisfied: tensorflow in /data/Projects/MachineLearnECT/env/lib/python3.8/site-packages (2.5.0)\n",
      "Requirement already satisfied: keras-nightly~=2.5.0.dev in /data/Projects/MachineLearnECT/env/lib/python3.8/site-packages (from tensorflow) (2.5.0.dev2021032900)\n",
      "Requirement already satisfied: wrapt~=1.12.1 in /data/Projects/MachineLearnECT/env/lib/python3.8/site-packages (from tensorflow) (1.12.1)\n",
      "Requirement already satisfied: astunparse~=1.6.3 in /data/Projects/MachineLearnECT/env/lib/python3.8/site-packages (from tensorflow) (1.6.3)\n",
      "Requirement already satisfied: keras-preprocessing~=1.1.2 in /data/Projects/MachineLearnECT/env/lib/python3.8/site-packages (from tensorflow) (1.1.2)\n",
      "Requirement already satisfied: absl-py~=0.10 in /data/Projects/MachineLearnECT/env/lib/python3.8/site-packages (from tensorflow) (0.13.0)\n",
      "Requirement already satisfied: gast==0.4.0 in /data/Projects/MachineLearnECT/env/lib/python3.8/site-packages (from tensorflow) (0.4.0)\n",
      "Requirement already satisfied: typing-extensions~=3.7.4 in /data/Projects/MachineLearnECT/env/lib/python3.8/site-packages (from tensorflow) (3.7.4.3)\n",
      "Requirement already satisfied: opt-einsum~=3.3.0 in /data/Projects/MachineLearnECT/env/lib/python3.8/site-packages (from tensorflow) (3.3.0)\n",
      "Requirement already satisfied: tensorflow-estimator<2.6.0,>=2.5.0rc0 in /data/Projects/MachineLearnECT/env/lib/python3.8/site-packages (from tensorflow) (2.5.0)\n",
      "Requirement already satisfied: termcolor~=1.1.0 in /data/Projects/MachineLearnECT/env/lib/python3.8/site-packages (from tensorflow) (1.1.0)\n",
      "Requirement already satisfied: flatbuffers~=1.12.0 in /data/Projects/MachineLearnECT/env/lib/python3.8/site-packages (from tensorflow) (1.12)\n",
      "Requirement already satisfied: wheel~=0.35 in /data/Projects/MachineLearnECT/env/lib/python3.8/site-packages (from tensorflow) (0.36.2)\n",
      "Requirement already satisfied: grpcio~=1.34.0 in /data/Projects/MachineLearnECT/env/lib/python3.8/site-packages (from tensorflow) (1.34.1)\n",
      "Requirement already satisfied: protobuf>=3.9.2 in /data/Projects/MachineLearnECT/env/lib/python3.8/site-packages (from tensorflow) (3.17.3)\n",
      "Requirement already satisfied: h5py~=3.1.0 in /data/Projects/MachineLearnECT/env/lib/python3.8/site-packages (from tensorflow) (3.1.0)\n",
      "Requirement already satisfied: tensorboard~=2.5 in /data/Projects/MachineLearnECT/env/lib/python3.8/site-packages (from tensorflow) (2.5.0)\n",
      "Requirement already satisfied: google-pasta~=0.2 in /data/Projects/MachineLearnECT/env/lib/python3.8/site-packages (from tensorflow) (0.2.0)\n",
      "Requirement already satisfied: numpy~=1.19.2 in /data/Projects/MachineLearnECT/env/lib/python3.8/site-packages (from tensorflow) (1.19.5)\n",
      "Requirement already satisfied: six~=1.15.0 in /data/Projects/MachineLearnECT/env/lib/python3.8/site-packages (from tensorflow) (1.15.0)\n",
      "Requirement already satisfied: google-auth<2,>=1.6.3 in /data/Projects/MachineLearnECT/env/lib/python3.8/site-packages (from tensorboard~=2.5->tensorflow) (1.33.1)\n",
      "Requirement already satisfied: setuptools>=41.0.0 in /data/Projects/MachineLearnECT/env/lib/python3.8/site-packages (from tensorboard~=2.5->tensorflow) (44.0.0)\n",
      "Requirement already satisfied: tensorboard-data-server<0.7.0,>=0.6.0 in /data/Projects/MachineLearnECT/env/lib/python3.8/site-packages (from tensorboard~=2.5->tensorflow) (0.6.1)\n",
      "Requirement already satisfied: markdown>=2.6.8 in /data/Projects/MachineLearnECT/env/lib/python3.8/site-packages (from tensorboard~=2.5->tensorflow) (3.3.4)\n",
      "Requirement already satisfied: google-auth-oauthlib<0.5,>=0.4.1 in /data/Projects/MachineLearnECT/env/lib/python3.8/site-packages (from tensorboard~=2.5->tensorflow) (0.4.4)\n",
      "Requirement already satisfied: werkzeug>=0.11.15 in /data/Projects/MachineLearnECT/env/lib/python3.8/site-packages (from tensorboard~=2.5->tensorflow) (2.0.1)\n",
      "Requirement already satisfied: requests<3,>=2.21.0 in /data/Projects/MachineLearnECT/env/lib/python3.8/site-packages (from tensorboard~=2.5->tensorflow) (2.26.0)\n",
      "Requirement already satisfied: tensorboard-plugin-wit>=1.6.0 in /data/Projects/MachineLearnECT/env/lib/python3.8/site-packages (from tensorboard~=2.5->tensorflow) (1.8.0)\n",
      "Requirement already satisfied: rsa<5,>=3.1.4; python_version >= \"3.6\" in /data/Projects/MachineLearnECT/env/lib/python3.8/site-packages (from google-auth<2,>=1.6.3->tensorboard~=2.5->tensorflow) (4.7.2)\n",
      "Requirement already satisfied: cachetools<5.0,>=2.0.0 in /data/Projects/MachineLearnECT/env/lib/python3.8/site-packages (from google-auth<2,>=1.6.3->tensorboard~=2.5->tensorflow) (4.2.2)\n",
      "Requirement already satisfied: pyasn1-modules>=0.2.1 in /data/Projects/MachineLearnECT/env/lib/python3.8/site-packages (from google-auth<2,>=1.6.3->tensorboard~=2.5->tensorflow) (0.2.8)\n",
      "Requirement already satisfied: requests-oauthlib>=0.7.0 in /data/Projects/MachineLearnECT/env/lib/python3.8/site-packages (from google-auth-oauthlib<0.5,>=0.4.1->tensorboard~=2.5->tensorflow) (1.3.0)\n",
      "Requirement already satisfied: idna<4,>=2.5; python_version >= \"3\" in /data/Projects/MachineLearnECT/env/lib/python3.8/site-packages (from requests<3,>=2.21.0->tensorboard~=2.5->tensorflow) (3.2)\n",
      "Requirement already satisfied: certifi>=2017.4.17 in /data/Projects/MachineLearnECT/env/lib/python3.8/site-packages (from requests<3,>=2.21.0->tensorboard~=2.5->tensorflow) (2021.5.30)\n",
      "Requirement already satisfied: charset-normalizer~=2.0.0; python_version >= \"3\" in /data/Projects/MachineLearnECT/env/lib/python3.8/site-packages (from requests<3,>=2.21.0->tensorboard~=2.5->tensorflow) (2.0.3)\n",
      "Requirement already satisfied: urllib3<1.27,>=1.21.1 in /data/Projects/MachineLearnECT/env/lib/python3.8/site-packages (from requests<3,>=2.21.0->tensorboard~=2.5->tensorflow) (1.26.6)\n",
      "Requirement already satisfied: pyasn1>=0.1.3 in /data/Projects/MachineLearnECT/env/lib/python3.8/site-packages (from rsa<5,>=3.1.4; python_version >= \"3.6\"->google-auth<2,>=1.6.3->tensorboard~=2.5->tensorflow) (0.4.8)\n",
      "Requirement already satisfied: oauthlib>=3.0.0 in /data/Projects/MachineLearnECT/env/lib/python3.8/site-packages (from requests-oauthlib>=0.7.0->google-auth-oauthlib<0.5,>=0.4.1->tensorboard~=2.5->tensorflow) (3.1.1)\n",
      "Requirement already satisfied: tqdm in /data/Projects/MachineLearnECT/env/lib/python3.8/site-packages (4.62.0)\n",
      "Collecting seaborn\n",
      "  Downloading seaborn-0.11.1-py3-none-any.whl (285 kB)\n",
      "\u001b[K     |████████████████████████████████| 285 kB 13.1 MB/s \n",
      "\u001b[?25hRequirement already satisfied: numpy>=1.15 in /data/Projects/MachineLearnECT/env/lib/python3.8/site-packages (from seaborn) (1.19.5)\n",
      "Requirement already satisfied: scipy>=1.0 in /data/Projects/MachineLearnECT/env/lib/python3.8/site-packages (from seaborn) (1.7.0)\n",
      "Requirement already satisfied: matplotlib>=2.2 in /data/Projects/MachineLearnECT/env/lib/python3.8/site-packages (from seaborn) (3.4.2)\n",
      "Requirement already satisfied: pandas>=0.23 in /data/Projects/MachineLearnECT/env/lib/python3.8/site-packages (from seaborn) (1.3.0)\n",
      "Requirement already satisfied: pillow>=6.2.0 in /data/Projects/MachineLearnECT/env/lib/python3.8/site-packages (from matplotlib>=2.2->seaborn) (8.3.1)\n",
      "Requirement already satisfied: pyparsing>=2.2.1 in /data/Projects/MachineLearnECT/env/lib/python3.8/site-packages (from matplotlib>=2.2->seaborn) (2.4.7)\n",
      "Requirement already satisfied: cycler>=0.10 in /data/Projects/MachineLearnECT/env/lib/python3.8/site-packages (from matplotlib>=2.2->seaborn) (0.10.0)\n",
      "Requirement already satisfied: kiwisolver>=1.0.1 in /data/Projects/MachineLearnECT/env/lib/python3.8/site-packages (from matplotlib>=2.2->seaborn) (1.3.1)\n",
      "Requirement already satisfied: python-dateutil>=2.7 in /data/Projects/MachineLearnECT/env/lib/python3.8/site-packages (from matplotlib>=2.2->seaborn) (2.8.2)\n",
      "Requirement already satisfied: pytz>=2017.3 in /data/Projects/MachineLearnECT/env/lib/python3.8/site-packages (from pandas>=0.23->seaborn) (2021.1)\n",
      "Requirement already satisfied: six in /data/Projects/MachineLearnECT/env/lib/python3.8/site-packages (from cycler>=0.10->matplotlib>=2.2->seaborn) (1.15.0)\n",
      "Installing collected packages: seaborn\n",
      "Successfully installed seaborn-0.11.1\n"
     ]
    }
   ],
   "metadata": {}
  },
  {
   "cell_type": "code",
   "execution_count": 2,
   "source": [
    "import os\n",
    "import pandas as pd\n",
    "import numpy as np\n",
    "import matplotlib.pyplot as plt\n",
    "from IPython.display import display\n",
    "from sklearn.model_selection import train_test_split\n",
    "import sklearn.linear_model as skl\n",
    "from sklearn.metrics import mean_squared_error, r2_score, mean_absolute_error\n",
    "\n",
    "# Path to save the figures and data files\n",
    "PROJECT_ROOT_DIR = \"Result\"\n",
    "FIGURE_ID = \"Result/FigureFiles\"\n",
    "\n",
    "if not os.path.exists(PROJECT_ROOT_DIR):\n",
    "    os.mkdir(PROJECT_ROOT_DIR)\n",
    "    \n",
    "if not os.path.exists(FIGURE_ID):\n",
    "    os.makedirs(FIGURE_ID)\n",
    "    \n",
    "def image_path (fig_id):\n",
    "    return os.path.join(FIGURE_ID, fig_id)\n",
    "\n",
    "def save_fig(fig_id):\n",
    "    plt.savefig(image_path(fig_id) + \".png\", format='png')\n",
    "    \n",
    "def R2(y_data, y_model):\n",
    "    return 1 - np.sum((y_data - y_model)**2)/np.sum((y_data - np.mean(y_data))**2)\n",
    "\n",
    "def MSE(y_data, y_model):\n",
    "    n = np.size(y_model)\n",
    "    return np.sum((y_data - y_model)**2/n)"
   ],
   "outputs": [],
   "metadata": {}
  },
  {
   "cell_type": "markdown",
   "source": [
    "### This exercise has as its aim to write a small program which reads in data from a csv file on the equation of state for dense nuclear matter. The file is localized at https://github.com/mhjensen/MachineLearningMSU-FRIB2020/blob/master/doc/pub/Regression/ipynb/datafiles/EoS.csv. \n",
    "### Thereafter you will have to set up the design matrix X for the n datapoints and a polynomial of degree 3\n",
    "### The steps are:\n",
    "     Write a Python code which reads the in the above mentioned file.\n",
    "     Use for example pandas to order your data and find out how many data points there are.\n",
    "     Set thereafter up the design matrix with dimensionality n×p where p=4 and where you have defined a polynomial of degree p−1=3. \n",
    "### Print the matrix and check that the numbers are correct."
   ],
   "metadata": {}
  },
  {
   "cell_type": "code",
   "execution_count": 13,
   "source": [
    "url = \"https://raw.githubusercontent.com/mhjensen/MachineLearningMSU-FRIB2020/master/doc/pub/Regression/ipynb/datafiles/EoS.csv\"\n",
    "data = pd.read_csv(url, names=('Density', 'Energy'))\n",
    "data['Energy'] = pd.to_numeric(data['Energy'], errors='coerce')\n",
    "data = data.dropna()\n",
    "density = data['Density']\n",
    "energy = data['Energy']\n",
    "data.tail(20)\n",
    "\n",
    "max_polydegree = 10\n",
    "\n",
    "X = np.zeros((len(density), max_polydegree))\n",
    "X[:, 0] = 1.0\n",
    "\n",
    "polynomial = np.zeros(max_polydegree)\n",
    "test_error = np.zeros(max_polydegree)\n",
    "train_error = np.zeros(max_polydegree)\n",
    "\n",
    "for polydegree in range(1, max_polydegree):\n",
    "    polynomial[polydegree] = polydegree\n",
    "    test_error[polydegree] = 0\n",
    "    train_error[polydegree] = 0\n",
    "    \n",
    "    for degree in range(polydegree):\n",
    "        X[:,degree] = density**(degree/3)\n",
    "\n",
    "    for sample in range(100):\n",
    "        X_train, X_test, y_train, y_test = train_test_split(X, energy, test_size=0.2)\n",
    "\n",
    "        # matrix inversion to find beta\n",
    "        # beta = np.linalg.inv(X_train.T @ X_train) @ X_train.T @ y_train\n",
    "        # print(beta)\n",
    "        model = skl.LinearRegression(fit_intercept=True).fit(X_train, y_train)\n",
    "        y_tilde = model.predict(X_train)\n",
    "        y_prediction = model.predict(X_test)\n",
    "        test_error[polydegree] += MSE(y_test, y_prediction)\n",
    "        train_error[polydegree] += MSE(y_train, y_tilde)\n",
    "\n",
    "    test_error[polydegree] /= 100\n",
    "    train_error[polydegree] /= 100\n",
    "\n",
    "plt.plot(polynomial, np.log10(train_error), label='Training Error')\n",
    "plt.plot(polynomial, np.log10(test_error), label='Test Error')\n",
    "plt.xlabel('Polynomial degree')\n",
    "plt.ylabel('MSE')\n",
    "plt.legend()\n",
    "plt.show()    \n",
    "\n",
    "# use Scikitlearn linear regression and ridge regression\n",
    "clf = skl.LinearRegression().fit(X, energy)\n",
    "ytilde = clf.predict(X)\n",
    "data['E_OLS'] = ytilde\n",
    "# The mean squared error                               \n",
    "print(\"Mean squared error: %.2f\" % mean_squared_error(energy, ytilde))\n",
    "# Explained variance score: 1 is perfect prediction                                 \n",
    "print('Variance score: %.2f' % r2_score(energy, ytilde))\n",
    "# Mean absolute error                                                           \n",
    "print('Mean absolute error: %.2f' % mean_absolute_error(energy, ytilde))\n",
    "print(clf.coef_, clf.intercept_)\n",
    "\n",
    "# ridge regression with hyperparameter lambda = 0.1\n",
    "_lambda = 0.1\n",
    "clf_ridge = skl.Ridge(alpha=_lambda).fit(X, energy)\n",
    "yridge = clf_ridge.predict(X)\n",
    "data['E_ridge'] = yridge\n",
    "# The mean squared error                               \n",
    "print(\"Mean squared error: %.2f\" % mean_squared_error(energy, yridge))\n",
    "# Explained variance score: 1 is perfect prediction                                 \n",
    "print('Variance score: %.2f' % r2_score(energy, yridge))\n",
    "# Mean absolute error                                                           \n",
    "print('Mean absolute error: %.2f' % mean_absolute_error(energy, yridge))\n",
    "print(clf_ridge.coef_, clf_ridge.intercept_)\n",
    "\n",
    "data['Eapprox'] = pd.Series(y_tilde)\n",
    "data['prediction'] = pd.Series(y_prediction)\n",
    "\n",
    "# Generate a plot comparing the experimental with the fitted values.\n",
    "fig, ax = plt.subplots()\n",
    "ax.set_xlabel('Density')\n",
    "ax.set_ylabel('Energy')\n",
    "ax.plot(data['Density'], data['Energy'], alpha=0.7, lw=3, label='Real')\n",
    "ax.plot(data['Density'], data['E_OLS'], alpha=0.7, lw=1, label='Fit', c='m')\n",
    "ax.plot(data['Density'], data['E_ridge'], alpha=0.7, lw=2, label='pred', c='b')\n",
    "ax.legend()\n",
    "plt.show()"
   ],
   "outputs": [
    {
     "output_type": "stream",
     "name": "stderr",
     "text": [
      "/tmp/ipykernel_17476/526668024.py:41: RuntimeWarning: divide by zero encountered in log10\n",
      "  plt.plot(polynomial, np.log10(train_error), label='Training Error')\n",
      "/tmp/ipykernel_17476/526668024.py:42: RuntimeWarning: divide by zero encountered in log10\n",
      "  plt.plot(polynomial, np.log10(test_error), label='Test Error')\n"
     ]
    },
    {
     "output_type": "display_data",
     "data": {
      "text/plain": [
       "<Figure size 432x288 with 1 Axes>"
      ],
      "image/png": "[encoded data removed]"
     },
     "metadata": {
      "needs_background": "light"
     }
    },
    {
     "output_type": "stream",
     "name": "stdout",
     "text": [
      "Mean squared error: 0.03\n",
      "Variance score: 1.00\n",
      "Mean absolute error: 0.14\n",
      "[    0.            31.53723417  -384.18857047  3007.46118025\n",
      " -5815.91859423  9516.40389447 -9591.73310431  5868.38181568\n",
      " -1483.49568881     0.        ] -0.7824130531837454\n",
      "Mean squared error: 13.12\n",
      "Variance score: 1.00\n",
      "Mean absolute error: 2.45\n",
      "[  0.          62.58603534 205.83104651 258.89359022 257.72023551\n",
      " 222.07319891 157.9609163   63.9086178  -66.31610551   0.        ] -15.767531280886033\n"
     ]
    },
    {
     "output_type": "display_data",
     "data": {
      "text/plain": [
       "<Figure size 432x288 with 1 Axes>"
      ],
      "image/png": "[encoded data removed]"
     },
     "metadata": {
      "needs_background": "light"
     }
    }
   ],
   "metadata": {
    "scrolled": true
   }
  },
  {
   "cell_type": "code",
   "execution_count": 9,
   "source": [
    "x = np.random.rand(100)\n",
    "y = 2.0+5*x*x+0.1*np.random.randn(100,1)\n",
    "\n",
    "X = np.zeros((len(x), 3))\n",
    "X[:,0] = 1.0\n",
    "X[:,1] = x\n",
    "X[:,2] = x**2\n",
    "\n",
    "X_train, X_test, y_train, y_test = train_test_split(X, y, test_size=0.2)\n",
    "\n",
    "beta = np.linalg.inv(X_train.T @ X_train) @ X_train.T @ y_train\n",
    "\n",
    "y_tilde = X_train @ beta\n",
    "y_prediction = X_test @ beta\n"
   ],
   "outputs": [],
   "metadata": {}
  },
  {
   "cell_type": "code",
   "execution_count": 10,
   "source": [
    "print(R2(y_train, y_tilde))\n",
    "print(MSE(y_train, y_tilde))\n",
    "print(R2(y_test, y_prediction))\n",
    "print(MSE(y_test, y_prediction))\n"
   ],
   "outputs": [
    {
     "output_type": "stream",
     "name": "stdout",
     "text": [
      "0.9953183672205697\n",
      "0.010837171305872435\n",
      "0.997333414489145\n",
      "0.006152979108978411\n"
     ]
    }
   ],
   "metadata": {}
  },
  {
   "cell_type": "code",
   "execution_count": 20,
   "source": [
    "# write your own code (you can use the example the nuclear masses \n",
    "# in the lecture slides on Regression and Getting started from Day1, \n",
    "# that reads in the nuclear masses and compute the proton separation energies, \n",
    "# the two-neutron and two-proton separation energies \n",
    "# and finally the shell gaps for selected nuclei.\n",
    "# compute the Q-values for β− decay for selected nuclei.\n",
    "\n",
    "plt.style.use('seaborn')\n",
    "\n",
    "url = 'https://raw.githubusercontent.com/NuclearTalent/MachineLearningECT2021/gh-pages/doc/src/Day1/datafiles/MassEval2016.dat'\n",
    "Masses = pd.read_fwf(url, usecols=(2,3,4,6,11), \n",
    "                     names=('N', 'Z', 'A', 'Element', 'Ebinding'), \n",
    "                     widths=(1,3,5,5,5,1,3,4,1,13,11,11,9,1,2,11,9,1,3,1,12,11,1),\n",
    "                     header=39, index_col=False)\n",
    "\n",
    "Masses['Ebinding'] = pd.to_numeric(Masses['Ebinding'], errors='coerce')\n",
    "Masses = Masses.dropna()\n",
    "Masses['Ebinding'] /= 1000\n",
    "\n",
    "A = Masses['A']\n",
    "N = Masses['N']\n",
    "Z = Masses['Z']\n",
    "Element = Masses['Element']\n",
    "Energy = Masses['Ebinding'] * A\n",
    "\n",
    "df = pd.DataFrame({'A':A, 'Z':Z, 'N':N, 'Element':Element, 'Energy':Energy})\n",
    "\n",
    "# Calculate Q-values for Oxygen \n",
    "Nucleus = df.loc[lambda df: df.Z==8, :]\n",
    "Nucleus = Nucleus.dropna()\n",
    "Nucleus['NeutronSeparationEnergy'] = Nucleus['Energy'].diff(+1)\n",
    "print(Nucleus)\n",
    "\n",
    "fig, ax = plt.subplots()\n",
    "ax.set_xlabel('A')\n",
    "ax.set_ylabel('NeutronSeparationEnergy')\n",
    "ax.plot(Nucleus['A'], Nucleus['NeutronSeparationEnergy'], alpha=0.7, lw=2, label='Real')\n",
    "save_fig('Nucleus')\n",
    "plt.show()"
   ],
   "outputs": [
    {
     "output_type": "stream",
     "name": "stdout",
     "text": [
      "      A  Z   N Element      Energy  NeutronSeparationEnergy\n",
      "41   12  8   4       O   58.682424                      NaN\n",
      "47   13  8   5       O   75.552919                16.870495\n",
      "52   14  8   6       O   98.731892                23.178973\n",
      "58   15  8   7       O  111.955380                13.223488\n",
      "65   16  8   8       O  127.619296                15.663916\n",
      "71   17  8   9       O  131.762376                 4.143080\n",
      "78   18  8  10       O  139.807746                 8.045370\n",
      "85   19  8  11       O  143.763405                 3.955659\n",
      "93   20  8  12       O  151.371400                 7.607995\n",
      "101  21  8  13       O  155.176854                 3.805454\n",
      "109  22  8  14       O  162.027162                 6.850308\n",
      "118  23  8  15       O  164.760155                 2.732993\n",
      "126  24  8  16       O  168.952440                 4.192285\n",
      "135  25  8  17       O  168.195125                -0.757315\n",
      "143  26  8  18       O  168.934428                 0.739303\n"
     ]
    },
    {
     "output_type": "display_data",
     "data": {
      "text/plain": [
       "<Figure size 576x396 with 1 Axes>"
      ],
      "image/png": "[encoded data removed]"
     },
     "metadata": {}
    }
   ],
   "metadata": {}
  }
 ],
 "metadata": {
  "kernelspec": {
   "name": "python3",
   "display_name": "Python 3.8.10 64-bit ('env': venv)"
  },
  "language_info": {
   "codemirror_mode": {
    "name": "ipython",
    "version": 3
   },
   "file_extension": ".py",
   "mimetype": "text/x-python",
   "name": "python",
   "nbconvert_exporter": "python",
   "pygments_lexer": "ipython3",
   "version": "3.8.10"
  },
  "interpreter": {
   "hash": "2dd582f4d494157b7b25c87d8749050f5acfadec8e6aca5fd38f0bbbb455f280"
  }
 },
 "nbformat": 4,
 "nbformat_minor": 5
}