{
 "cells": [
  {
   "cell_type": "code",
   "execution_count": null,
   "source": [
    "import pandas as pd\n",
    "import numpy as np\n",
    "import xgboost as xgb\n",
    "import ast\n",
    "import csv\n",
    "\n",
    "def convert_dataset(dataset):\n",
    "  examples = []\n",
    "\n",
    "  for dat, trc in zip(dataset['txData'], dataset['txTrace']):  \n",
    "    data = ast.literal_eval(dat)\n",
    "    trace = ast.literal_eval(trc)\n",
    "    examples.append([\n",
    "      int(data.get('blockNumber'), 0),\n",
    "      int(data.get('from'), 0) % (2 ** 30),\n",
    "      (int(data.get('to'), 0) if data.get('to') is not None else 0) % (2 ** 30),\n",
    "      int(data.get('gas'), 0),\n",
    "      ((int(trace.get('gasUsed'), 0) if trace.get('gasUsed') is not None else 0) *int(data.get('gasPrice'), 0)),\n",
    "      (int(data.get('input')[:10], 0) if data.get('input') != '0x' else 0) % (2 ** 30),\n",
    "      int(data.get('nonce'), 0),\n",
    "      (1 if  trace.get('error') is not None else 0)\n",
    "    ])\n",
    "  return np.array(examples)\n",
    "\n",
    "train = pd.read_csv('train.csv')\n",
    "test = pd.read_csv('test.csv')\n",
    "testFeatures = convert_dataset(test)\n",
    " \n",
    "binaryModel = xgb.XGBClassifier(n_estimators=50)\n",
    "binaryModel.fit(convert_dataset(train), train['Label0'])\n",
    "binaryPredictions = binaryModel.predict_proba(testFeatures)[:, 1]\n",
    " \n",
    "regressionModel = xgb.XGBRegressor(n_estimators=50)\n",
    "regressionModel.fit(\n",
    "  convert_dataset(train[train['Label0'] == True]),\n",
    "  train[train['Label0'] == True]['Label1']\n",
    ")\n",
    "regressionPredictions = regressionModel.predict(testFeatures)\n",
    " \n",
    "submission = csv.writer(open('submission.csv', 'w', encoding='UTF8'))\n",
    "for x, y in zip(binaryPredictions, regressionPredictions):\n",
    "  submission.writerow([x, y])  \n"
   ],
   "outputs": [],
   "metadata": {}
  }
 ],
 "metadata": {
  "orig_nbformat": 4,
  "language_info": {
   "name": "python"
  }
 },
 "nbformat": 4,
 "nbformat_minor": 2
}